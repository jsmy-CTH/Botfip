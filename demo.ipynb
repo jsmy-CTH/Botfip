{
 "cells": [
  {
   "cell_type": "code",
   "execution_count": 1,
   "metadata": {
    "collapsed": true
   },
   "outputs": [],
   "source": [
    "import pandas as pd\n",
    "from omegaconf import OmegaConf\n",
    "import matplotlib.pyplot as plt\n",
    "from torch.utils.data import DataLoader\n",
    "from torch.utils.data import DataLoader\n",
    "import wandb\n",
    "from omegaconf import OmegaConf\n",
    "import os\n",
    "\n",
    "from Botfip.datagen.opt_datagen import Op_dataset\n",
    "from Botfip.datagen.data_utils import custom_collate\n",
    "from Botfip.datagen.data_utils import Multiscale_MeshDataset\n",
    "from Botfip.operation.operation_tree import OperationRandomTree"
   ]
  },
  {
   "cell_type": "code",
   "execution_count": 2,
   "outputs": [],
   "source": [
    "hyperparameters_yaml_path = 'configs/model_hyper.yaml'\n",
    "config = OmegaConf.load(hyperparameters_yaml_path)\n"
   ],
   "metadata": {
    "collapsed": false
   }
  },
  {
   "cell_type": "code",
   "execution_count": 9,
   "outputs": [
    {
     "name": "stdout",
     "output_type": "stream",
     "text": [
      "1.88*Abs((-x_0 + x_1 - 0.858)**(1/3))**0.5 - 0.273\n"
     ]
    },
    {
     "data": {
      "text/plain": "<Figure size 640x480 with 1 Axes>",
      "image/png": "[encoded data removed]"
     },
     "metadata": {},
     "output_type": "display_data"
    }
   ],
   "source": [
    "opt = OperationRandomTree.from_config_yaml(8,hyperparameters_yaml_path)\n",
    "opt.random_assign_operations()\n",
    "print(opt.to_formula_str(type='full'))\n",
    "opt.draw_tree()"
   ],
   "metadata": {
    "collapsed": false
   }
  },
  {
   "cell_type": "code",
   "execution_count": 10,
   "outputs": [
    {
     "name": "stdout",
     "output_type": "stream",
     "text": [
      "[16, 0, 17, 0, 2, 0, 1, 18, 0, 19, 10, 0, 0, 0, 0] [-0.85762299  1.88441416 -0.27345497]\n"
     ]
    }
   ],
   "source": [
    "opseq,op_constant = opt.tree_serialized_encode_seq(if_ignore_root = True)\n",
    "print(opseq,op_constant)"
   ],
   "metadata": {
    "collapsed": false
   }
  },
  {
   "cell_type": "code",
   "execution_count": 11,
   "outputs": [
    {
     "name": "stdout",
     "output_type": "stream",
     "text": [
      "1.88*Abs((-x_0 + x_1 - 0.858)**(1/3))**0.5 - 0.273\n"
     ]
    }
   ],
   "source": [
    "opt_reco = OperationRandomTree.load_tree_ots(opseq,hyperparameters_yaml_path,constant_array=op_constant)\n",
    "print(opt.to_formula_str(type='full'))"
   ],
   "metadata": {
    "collapsed": false
   }
  },
  {
   "cell_type": "code",
   "execution_count": 29,
   "outputs": [],
   "source": [
    "op_dataset = Op_dataset(hyperparameters_yaml_path,if_load=True)\n",
    "op_dataloader = DataLoader(op_dataset, batch_size=1, collate_fn=custom_collate,shuffle=True,drop_last=True,num_workers=0)"
   ],
   "metadata": {
    "collapsed": false
   }
  },
  {
   "cell_type": "code",
   "execution_count": 5,
   "outputs": [
    {
     "data": {
      "text/plain": "dict_keys(['funcimg', 'original_funcimg', 'funcimg_max', 'funcimg_min', 'opseq', 'const_array', 'set_node_num', 'img_index', 'skeleton_index'])"
     },
     "execution_count": 5,
     "metadata": {},
     "output_type": "execute_result"
    }
   ],
   "source": [
    "op_dataset[0].keys()"
   ],
   "metadata": {
    "collapsed": false
   }
  },
  {
   "cell_type": "code",
   "execution_count": 15,
   "outputs": [
    {
     "name": "stdout",
     "output_type": "stream",
     "text": [
      "dict_keys(['funcimg', 'original_funcimg', 'funcimg_max', 'funcimg_min', 'opseq', 'set_node_num', 'img_index', 'skeleton_index'])\n"
     ]
    }
   ],
   "source": [
    "samples = next(iter(op_dataloader))\n",
    "print(samples.keys())\n",
    "opseq,op_constant = samples['opseq']"
   ],
   "metadata": {
    "collapsed": false
   }
  },
  {
   "cell_type": "code",
   "execution_count": 7,
   "outputs": [],
   "source": [
    "from Botfip.model import op_tokenizer\n",
    "tokenizer = op_tokenizer.from_config(config)\n",
    "a = tokenizer.tokenize(opseq,op_constant)\n"
   ],
   "metadata": {
    "collapsed": false
   }
  },
  {
   "cell_type": "code",
   "execution_count": 8,
   "outputs": [],
   "source": [
    "from Botfip.model import BlipPretrain\n",
    "device = 'cuda'\n",
    "model = BlipPretrain.from_config(config,train_parameters_key='blip_pretrain_config').to(device)"
   ],
   "metadata": {
    "collapsed": false
   }
  },
  {
   "cell_type": "code",
   "execution_count": 9,
   "outputs": [],
   "source": [
    "samples['epoch'] = 0\n",
    "samples['iters'] = 0\n",
    "samples['num_iters_per_epoch'] = 10\n",
    "samples['funcimg'] = samples['funcimg'].to(device)\n",
    "output=model(samples,\n",
    "             cal_itc_itm_loss=True,\n",
    "                cal_lm_loss=True,)"
   ],
   "metadata": {
    "collapsed": false
   }
  },
  {
   "cell_type": "code",
   "execution_count": 10,
   "outputs": [],
   "source": [
    "output_seq_list,pred_const_array = model.opseq_generate(samples['funcimg'].to(device),if_compute_constant=True)"
   ],
   "metadata": {
    "collapsed": false
   }
  },
  {
   "cell_type": "code",
   "execution_count": 11,
   "outputs": [
    {
     "name": "stdout",
     "output_type": "stream",
     "text": [
      "op_dataset len: 551400\n"
     ]
    }
   ],
   "source": [
    "from Botfip.trainer import Botfip_trainer\n",
    "botfip_trainer =Botfip_trainer.build_from_yaml(hyperparameters_yaml_path,if_ddp=False)\n",
    "\n",
    "val_dataset =  Op_dataset(hyperparameters_yaml_path,if_load=True,dataset_key='op_dataset_config',load_dataset_path='/home/cth/nfs_store/dataset/new_formal_dataset_4')\n",
    "val_dataloader = DataLoader(val_dataset, batch_size=20, collate_fn=custom_collate,shuffle=True,drop_last=True,num_workers=0)"
   ],
   "metadata": {
    "collapsed": false
   }
  },
  {
   "cell_type": "code",
   "execution_count": 30,
   "outputs": [],
   "source": [
    "samples = next(iter(op_dataloader))\n",
    "funcimg = samples['funcimg'].to(device)\n",
    "\n",
    "opseq_target, op_constants_target = samples['opseq']\n",
    "opseq_pred, op_constants_pred  = botfip_trainer.model.opseq_generate(funcimg,device='cuda')\n",
    "\n",
    "mesh_dataset = Multiscale_MeshDataset(sys_range = (-1,1),\n",
    "                                      multiscale_channels = 3,\n",
    "                                      max_var_types = config.operation_tree_config.max_var_types,\n",
    "                                      img_shape = 64)\n",
    "meshgrid = mesh_dataset.mesh\n",
    "target_mesh_grid = meshgrid[1:2].to('cuda')\n"
   ],
   "metadata": {
    "collapsed": false
   }
  },
  {
   "cell_type": "code",
   "execution_count": 31,
   "outputs": [
    {
     "data": {
      "text/plain": "[[-0.3, 1.7]]"
     },
     "execution_count": 31,
     "metadata": {},
     "output_type": "execute_result"
    }
   ],
   "source": [
    "op_constants_target"
   ],
   "metadata": {
    "collapsed": false
   }
  },
  {
   "cell_type": "code",
   "execution_count": 32,
   "outputs": [
    {
     "name": "stdout",
     "output_type": "stream",
     "text": [
      "epoch 0: loss 1.8805980682373047\n",
      "epoch 1: loss 0.1285092532634735\n"
     ]
    }
   ],
   "source": [
    "const_array,pred_funcimg,loss = botfip_trainer.model.const_update(hyperparameters_yaml_path,opseq_target,funcimg,target_mesh_grid,optimizer='lbfgs')"
   ],
   "metadata": {
    "collapsed": false
   }
  }
 ],
 "metadata": {
  "kernelspec": {
   "display_name": "Python 3",
   "language": "python",
   "name": "python3"
  },
  "language_info": {
   "codemirror_mode": {
    "name": "ipython",
    "version": 2
   },
   "file_extension": ".py",
   "mimetype": "text/x-python",
   "name": "python",
   "nbconvert_exporter": "python",
   "pygments_lexer": "ipython2",
   "version": "2.7.6"
  }
 },
 "nbformat": 4,
 "nbformat_minor": 0
}
